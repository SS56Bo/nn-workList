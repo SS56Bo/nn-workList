{
 "cells": [
  {
   "cell_type": "code",
   "execution_count": 30,
   "metadata": {},
   "outputs": [],
   "source": [
    "import tensorflow as tf\n",
    "from tensorflow import keras\n",
    "from tensorflow.keras.preprocessing.text import Tokenizer"
   ]
  },
  {
   "cell_type": "code",
   "execution_count": 31,
   "metadata": {},
   "outputs": [],
   "source": [
    "tokenize = Tokenizer(num_words=100)"
   ]
  },
  {
   "cell_type": "code",
   "execution_count": 32,
   "metadata": {},
   "outputs": [],
   "source": [
    "poem='In a world shrouded by eternal night, a lone figure walked through the neon-lit streets. Rain fell in a steady rhythm, bouncing off metallic surfaces, creating ripples in the oil-slicked puddles below. Her trench coat flapped behind her as she navigated the narrow alleys, eyes scanning for unseen threats. The citys hum echoed like a mechanical heartbeat, cold and indifferent. Somewhere, deep within the labyrinth of concrete and steel, secrets lay buried. She had one mission: to uncover the truth, no matter the cost. Every step brought her closer, but danger was never far behind.'\n",
    "sentence = poem.split(' ')  "
   ]
  },
  {
   "cell_type": "code",
   "execution_count": 33,
   "metadata": {},
   "outputs": [
    {
     "name": "stdout",
     "output_type": "stream",
     "text": [
      "{'the': 1, 'a': 2, 'in': 3, 'her': 4, 'behind': 5, 'she': 6, 'and': 7, 'world': 8, 'shrouded': 9, 'by': 10, 'eternal': 11, 'night': 12, 'lone': 13, 'figure': 14, 'walked': 15, 'through': 16, 'neon': 17, 'lit': 18, 'streets': 19, 'rain': 20, 'fell': 21, 'steady': 22, 'rhythm': 23, 'bouncing': 24, 'off': 25, 'metallic': 26, 'surfaces': 27, 'creating': 28, 'ripples': 29, 'oil': 30, 'slicked': 31, 'puddles': 32, 'below': 33, 'trench': 34, 'coat': 35, 'flapped': 36, 'as': 37, 'navigated': 38, 'narrow': 39, 'alleys': 40, 'eyes': 41, 'scanning': 42, 'for': 43, 'unseen': 44, 'threats': 45, 'citys': 46, 'hum': 47, 'echoed': 48, 'like': 49, 'mechanical': 50, 'heartbeat': 51, 'cold': 52, 'indifferent': 53, 'somewhere': 54, 'deep': 55, 'within': 56, 'labyrinth': 57, 'of': 58, 'concrete': 59, 'steel': 60, 'secrets': 61, 'lay': 62, 'buried': 63, 'had': 64, 'one': 65, 'mission': 66, 'to': 67, 'uncover': 68, 'truth': 69, 'no': 70, 'matter': 71, 'cost': 72, 'every': 73, 'step': 74, 'brought': 75, 'closer': 76, 'but': 77, 'danger': 78, 'was': 79, 'never': 80, 'far': 81}\n"
     ]
    }
   ],
   "source": [
    "#sentence = ['I love cats', 'I love dogs', 'Dogs hate cats', 'Cats love fish', 'Dogs love fish', 'Cats hate dogs']\n",
    "tokenize.fit_on_texts(sentence)\n",
    "word_index= tokenize.word_index\n",
    "print(word_index)"
   ]
  }
 ],
 "metadata": {
  "kernelspec": {
   "display_name": "Python 3",
   "language": "python",
   "name": "python3"
  },
  "language_info": {
   "codemirror_mode": {
    "name": "ipython",
    "version": 3
   },
   "file_extension": ".py",
   "mimetype": "text/x-python",
   "name": "python",
   "nbconvert_exporter": "python",
   "pygments_lexer": "ipython3",
   "version": "3.12.2"
  }
 },
 "nbformat": 4,
 "nbformat_minor": 2
}
